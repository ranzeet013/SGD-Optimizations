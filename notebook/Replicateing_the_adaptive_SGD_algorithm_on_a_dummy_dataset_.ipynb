{
  "nbformat": 4,
  "nbformat_minor": 0,
  "metadata": {
    "colab": {
      "provenance": []
    },
    "kernelspec": {
      "name": "python3",
      "display_name": "Python 3"
    },
    "language_info": {
      "name": "python"
    }
  },
  "cells": [
    {
      "cell_type": "code",
      "execution_count": 1,
      "metadata": {
        "colab": {
          "base_uri": "https://localhost:8080/"
        },
        "id": "V3u6d1_reMoM",
        "outputId": "8031ebd8-565c-4ca4-ab58-878f6e51d95e"
      },
      "outputs": [
        {
          "output_type": "stream",
          "name": "stdout",
          "text": [
            "Mounted at /content/drive\n"
          ]
        }
      ],
      "source": [
        "# prompt: mount drive\n",
        "\n",
        "from google.colab import drive\n",
        "drive.mount('/content/drive')"
      ]
    },
    {
      "cell_type": "code",
      "source": [
        "import numpy as np\n",
        "import pandas as pd\n",
        "\n",
        "x = np.linspace(0, 10, 1000)\n",
        "y = np.sin(x) + 0.1 * np.random.randn(1000)\n",
        "pd.DataFrame({\"x\": x, \"y\": y}).to_csv(\"/content/drive/MyDrive/SDGOptimizations/test_data.csv\", index=False)"
      ],
      "metadata": {
        "id": "mNEUhU4BeV6Y"
      },
      "execution_count": 34,
      "outputs": []
    },
    {
      "cell_type": "code",
      "source": [
        "dataframe = pd.read_csv(\"/content/drive/MyDrive/SDGOptimizations/test_data.csv\")\n",
        "dataframe.head()"
      ],
      "metadata": {
        "colab": {
          "base_uri": "https://localhost:8080/",
          "height": 206
        },
        "id": "3873H0XCe492",
        "outputId": "ecca26ef-4002-430c-efdf-ddcb776111aa"
      },
      "execution_count": 35,
      "outputs": [
        {
          "output_type": "execute_result",
          "data": {
            "text/plain": [
              "         x         y\n",
              "0  0.00000  0.061278\n",
              "1  0.01001 -0.070645\n",
              "2  0.02002  0.105380\n",
              "3  0.03003  0.011771\n",
              "4  0.04004 -0.006785"
            ],
            "text/html": [
              "\n",
              "  <div id=\"df-c99fb3ef-e8b9-455a-b338-2867c91a3bb0\" class=\"colab-df-container\">\n",
              "    <div>\n",
              "<style scoped>\n",
              "    .dataframe tbody tr th:only-of-type {\n",
              "        vertical-align: middle;\n",
              "    }\n",
              "\n",
              "    .dataframe tbody tr th {\n",
              "        vertical-align: top;\n",
              "    }\n",
              "\n",
              "    .dataframe thead th {\n",
              "        text-align: right;\n",
              "    }\n",
              "</style>\n",
              "<table border=\"1\" class=\"dataframe\">\n",
              "  <thead>\n",
              "    <tr style=\"text-align: right;\">\n",
              "      <th></th>\n",
              "      <th>x</th>\n",
              "      <th>y</th>\n",
              "    </tr>\n",
              "  </thead>\n",
              "  <tbody>\n",
              "    <tr>\n",
              "      <th>0</th>\n",
              "      <td>0.00000</td>\n",
              "      <td>0.061278</td>\n",
              "    </tr>\n",
              "    <tr>\n",
              "      <th>1</th>\n",
              "      <td>0.01001</td>\n",
              "      <td>-0.070645</td>\n",
              "    </tr>\n",
              "    <tr>\n",
              "      <th>2</th>\n",
              "      <td>0.02002</td>\n",
              "      <td>0.105380</td>\n",
              "    </tr>\n",
              "    <tr>\n",
              "      <th>3</th>\n",
              "      <td>0.03003</td>\n",
              "      <td>0.011771</td>\n",
              "    </tr>\n",
              "    <tr>\n",
              "      <th>4</th>\n",
              "      <td>0.04004</td>\n",
              "      <td>-0.006785</td>\n",
              "    </tr>\n",
              "  </tbody>\n",
              "</table>\n",
              "</div>\n",
              "    <div class=\"colab-df-buttons\">\n",
              "\n",
              "  <div class=\"colab-df-container\">\n",
              "    <button class=\"colab-df-convert\" onclick=\"convertToInteractive('df-c99fb3ef-e8b9-455a-b338-2867c91a3bb0')\"\n",
              "            title=\"Convert this dataframe to an interactive table.\"\n",
              "            style=\"display:none;\">\n",
              "\n",
              "  <svg xmlns=\"http://www.w3.org/2000/svg\" height=\"24px\" viewBox=\"0 -960 960 960\">\n",
              "    <path d=\"M120-120v-720h720v720H120Zm60-500h600v-160H180v160Zm220 220h160v-160H400v160Zm0 220h160v-160H400v160ZM180-400h160v-160H180v160Zm440 0h160v-160H620v160ZM180-180h160v-160H180v160Zm440 0h160v-160H620v160Z\"/>\n",
              "  </svg>\n",
              "    </button>\n",
              "\n",
              "  <style>\n",
              "    .colab-df-container {\n",
              "      display:flex;\n",
              "      gap: 12px;\n",
              "    }\n",
              "\n",
              "    .colab-df-convert {\n",
              "      background-color: #E8F0FE;\n",
              "      border: none;\n",
              "      border-radius: 50%;\n",
              "      cursor: pointer;\n",
              "      display: none;\n",
              "      fill: #1967D2;\n",
              "      height: 32px;\n",
              "      padding: 0 0 0 0;\n",
              "      width: 32px;\n",
              "    }\n",
              "\n",
              "    .colab-df-convert:hover {\n",
              "      background-color: #E2EBFA;\n",
              "      box-shadow: 0px 1px 2px rgba(60, 64, 67, 0.3), 0px 1px 3px 1px rgba(60, 64, 67, 0.15);\n",
              "      fill: #174EA6;\n",
              "    }\n",
              "\n",
              "    .colab-df-buttons div {\n",
              "      margin-bottom: 4px;\n",
              "    }\n",
              "\n",
              "    [theme=dark] .colab-df-convert {\n",
              "      background-color: #3B4455;\n",
              "      fill: #D2E3FC;\n",
              "    }\n",
              "\n",
              "    [theme=dark] .colab-df-convert:hover {\n",
              "      background-color: #434B5C;\n",
              "      box-shadow: 0px 1px 3px 1px rgba(0, 0, 0, 0.15);\n",
              "      filter: drop-shadow(0px 1px 2px rgba(0, 0, 0, 0.3));\n",
              "      fill: #FFFFFF;\n",
              "    }\n",
              "  </style>\n",
              "\n",
              "    <script>\n",
              "      const buttonEl =\n",
              "        document.querySelector('#df-c99fb3ef-e8b9-455a-b338-2867c91a3bb0 button.colab-df-convert');\n",
              "      buttonEl.style.display =\n",
              "        google.colab.kernel.accessAllowed ? 'block' : 'none';\n",
              "\n",
              "      async function convertToInteractive(key) {\n",
              "        const element = document.querySelector('#df-c99fb3ef-e8b9-455a-b338-2867c91a3bb0');\n",
              "        const dataTable =\n",
              "          await google.colab.kernel.invokeFunction('convertToInteractive',\n",
              "                                                    [key], {});\n",
              "        if (!dataTable) return;\n",
              "\n",
              "        const docLinkHtml = 'Like what you see? Visit the ' +\n",
              "          '<a target=\"_blank\" href=https://colab.research.google.com/notebooks/data_table.ipynb>data table notebook</a>'\n",
              "          + ' to learn more about interactive tables.';\n",
              "        element.innerHTML = '';\n",
              "        dataTable['output_type'] = 'display_data';\n",
              "        await google.colab.output.renderOutput(dataTable, element);\n",
              "        const docLink = document.createElement('div');\n",
              "        docLink.innerHTML = docLinkHtml;\n",
              "        element.appendChild(docLink);\n",
              "      }\n",
              "    </script>\n",
              "  </div>\n",
              "\n",
              "\n",
              "<div id=\"df-d328cfde-e471-41b2-b868-92269a2e0604\">\n",
              "  <button class=\"colab-df-quickchart\" onclick=\"quickchart('df-d328cfde-e471-41b2-b868-92269a2e0604')\"\n",
              "            title=\"Suggest charts\"\n",
              "            style=\"display:none;\">\n",
              "\n",
              "<svg xmlns=\"http://www.w3.org/2000/svg\" height=\"24px\"viewBox=\"0 0 24 24\"\n",
              "     width=\"24px\">\n",
              "    <g>\n",
              "        <path d=\"M19 3H5c-1.1 0-2 .9-2 2v14c0 1.1.9 2 2 2h14c1.1 0 2-.9 2-2V5c0-1.1-.9-2-2-2zM9 17H7v-7h2v7zm4 0h-2V7h2v10zm4 0h-2v-4h2v4z\"/>\n",
              "    </g>\n",
              "</svg>\n",
              "  </button>\n",
              "\n",
              "<style>\n",
              "  .colab-df-quickchart {\n",
              "      --bg-color: #E8F0FE;\n",
              "      --fill-color: #1967D2;\n",
              "      --hover-bg-color: #E2EBFA;\n",
              "      --hover-fill-color: #174EA6;\n",
              "      --disabled-fill-color: #AAA;\n",
              "      --disabled-bg-color: #DDD;\n",
              "  }\n",
              "\n",
              "  [theme=dark] .colab-df-quickchart {\n",
              "      --bg-color: #3B4455;\n",
              "      --fill-color: #D2E3FC;\n",
              "      --hover-bg-color: #434B5C;\n",
              "      --hover-fill-color: #FFFFFF;\n",
              "      --disabled-bg-color: #3B4455;\n",
              "      --disabled-fill-color: #666;\n",
              "  }\n",
              "\n",
              "  .colab-df-quickchart {\n",
              "    background-color: var(--bg-color);\n",
              "    border: none;\n",
              "    border-radius: 50%;\n",
              "    cursor: pointer;\n",
              "    display: none;\n",
              "    fill: var(--fill-color);\n",
              "    height: 32px;\n",
              "    padding: 0;\n",
              "    width: 32px;\n",
              "  }\n",
              "\n",
              "  .colab-df-quickchart:hover {\n",
              "    background-color: var(--hover-bg-color);\n",
              "    box-shadow: 0 1px 2px rgba(60, 64, 67, 0.3), 0 1px 3px 1px rgba(60, 64, 67, 0.15);\n",
              "    fill: var(--button-hover-fill-color);\n",
              "  }\n",
              "\n",
              "  .colab-df-quickchart-complete:disabled,\n",
              "  .colab-df-quickchart-complete:disabled:hover {\n",
              "    background-color: var(--disabled-bg-color);\n",
              "    fill: var(--disabled-fill-color);\n",
              "    box-shadow: none;\n",
              "  }\n",
              "\n",
              "  .colab-df-spinner {\n",
              "    border: 2px solid var(--fill-color);\n",
              "    border-color: transparent;\n",
              "    border-bottom-color: var(--fill-color);\n",
              "    animation:\n",
              "      spin 1s steps(1) infinite;\n",
              "  }\n",
              "\n",
              "  @keyframes spin {\n",
              "    0% {\n",
              "      border-color: transparent;\n",
              "      border-bottom-color: var(--fill-color);\n",
              "      border-left-color: var(--fill-color);\n",
              "    }\n",
              "    20% {\n",
              "      border-color: transparent;\n",
              "      border-left-color: var(--fill-color);\n",
              "      border-top-color: var(--fill-color);\n",
              "    }\n",
              "    30% {\n",
              "      border-color: transparent;\n",
              "      border-left-color: var(--fill-color);\n",
              "      border-top-color: var(--fill-color);\n",
              "      border-right-color: var(--fill-color);\n",
              "    }\n",
              "    40% {\n",
              "      border-color: transparent;\n",
              "      border-right-color: var(--fill-color);\n",
              "      border-top-color: var(--fill-color);\n",
              "    }\n",
              "    60% {\n",
              "      border-color: transparent;\n",
              "      border-right-color: var(--fill-color);\n",
              "    }\n",
              "    80% {\n",
              "      border-color: transparent;\n",
              "      border-right-color: var(--fill-color);\n",
              "      border-bottom-color: var(--fill-color);\n",
              "    }\n",
              "    90% {\n",
              "      border-color: transparent;\n",
              "      border-bottom-color: var(--fill-color);\n",
              "    }\n",
              "  }\n",
              "</style>\n",
              "\n",
              "  <script>\n",
              "    async function quickchart(key) {\n",
              "      const quickchartButtonEl =\n",
              "        document.querySelector('#' + key + ' button');\n",
              "      quickchartButtonEl.disabled = true;  // To prevent multiple clicks.\n",
              "      quickchartButtonEl.classList.add('colab-df-spinner');\n",
              "      try {\n",
              "        const charts = await google.colab.kernel.invokeFunction(\n",
              "            'suggestCharts', [key], {});\n",
              "      } catch (error) {\n",
              "        console.error('Error during call to suggestCharts:', error);\n",
              "      }\n",
              "      quickchartButtonEl.classList.remove('colab-df-spinner');\n",
              "      quickchartButtonEl.classList.add('colab-df-quickchart-complete');\n",
              "    }\n",
              "    (() => {\n",
              "      let quickchartButtonEl =\n",
              "        document.querySelector('#df-d328cfde-e471-41b2-b868-92269a2e0604 button');\n",
              "      quickchartButtonEl.style.display =\n",
              "        google.colab.kernel.accessAllowed ? 'block' : 'none';\n",
              "    })();\n",
              "  </script>\n",
              "</div>\n",
              "\n",
              "    </div>\n",
              "  </div>\n"
            ],
            "application/vnd.google.colaboratory.intrinsic+json": {
              "type": "dataframe",
              "variable_name": "dataframe",
              "summary": "{\n  \"name\": \"dataframe\",\n  \"rows\": 1000,\n  \"fields\": [\n    {\n      \"column\": \"x\",\n      \"properties\": {\n        \"dtype\": \"number\",\n        \"std\": 2.8910854464038986,\n        \"min\": 0.0,\n        \"max\": 10.0,\n        \"num_unique_values\": 1000,\n        \"samples\": [\n          5.215215215215215,\n          7.377377377377377,\n          7.407407407407407\n        ],\n        \"semantic_type\": \"\",\n        \"description\": \"\"\n      }\n    },\n    {\n      \"column\": \"y\",\n      \"properties\": {\n        \"dtype\": \"number\",\n        \"std\": 0.6728524771543152,\n        \"min\": -1.276833392528206,\n        \"max\": 1.2641544912207543,\n        \"num_unique_values\": 1000,\n        \"samples\": [\n          -1.037212861086033,\n          0.9425818837447372,\n          0.8252537637419548\n        ],\n        \"semantic_type\": \"\",\n        \"description\": \"\"\n      }\n    }\n  ]\n}"
            }
          },
          "metadata": {},
          "execution_count": 35
        }
      ]
    },
    {
      "cell_type": "code",
      "source": [
        "x = (x - x.mean()) / x.std()\n",
        "y = (y - y.mean()) / y.std()"
      ],
      "metadata": {
        "id": "dUJ_NX0znzbV"
      },
      "execution_count": 36,
      "outputs": []
    },
    {
      "cell_type": "code",
      "source": [
        "model = torch.nn.Sequential(\n",
        "    torch.nn.Linear(1, 256),\n",
        "    torch.nn.BatchNorm1d(256),\n",
        "    torch.nn.SiLU(),\n",
        "\n",
        "    torch.nn.Linear(256, 128),\n",
        "    torch.nn.BatchNorm1d(128),\n",
        "    torch.nn.SiLU(),\n",
        "\n",
        "    torch.nn.Linear(128, 64),\n",
        "    torch.nn.Dropout(0.2),\n",
        "    torch.nn.SiLU(),\n",
        "\n",
        "    torch.nn.Linear(64, 1),\n",
        "    torch.nn.Tanh()\n",
        ")"
      ],
      "metadata": {
        "id": "2rwO25qfoAtW"
      },
      "execution_count": 172,
      "outputs": []
    },
    {
      "cell_type": "code",
      "source": [
        "for layer in model:\n",
        "    if isinstance(layer, torch.nn.Linear):\n",
        "        torch.nn.init.xavier_uniform_(layer.weight)\n",
        "        torch.nn.init.zeros_(layer.bias)"
      ],
      "metadata": {
        "id": "QoO1YfZ0oFXL"
      },
      "execution_count": 173,
      "outputs": []
    },
    {
      "cell_type": "code",
      "source": [
        "import numpy as np\n",
        "import torch\n",
        "import torch.optim as optim\n",
        "import yaml\n",
        "from pathlib import Path\n",
        "import os\n",
        "\n",
        "with open(\"/content/drive/MyDrive/SDGOptimizations/config.yaml\") as f:\n",
        "    config = yaml.safe_load(f)"
      ],
      "metadata": {
        "id": "8FGa2ouLfg8U"
      },
      "execution_count": 174,
      "outputs": []
    },
    {
      "cell_type": "code",
      "source": [
        "lr = config[\"training\"][\"learning_rate\"]\n",
        "print(f\"Using optimizer: {config['training']['optimizer']}\")"
      ],
      "metadata": {
        "colab": {
          "base_uri": "https://localhost:8080/"
        },
        "id": "EoArnbKxgZwD",
        "outputId": "1acdfbf3-c697-4a4c-8bd0-8813063d5d83"
      },
      "execution_count": 175,
      "outputs": [
        {
          "output_type": "stream",
          "name": "stdout",
          "text": [
            "Using optimizer: Adam\n"
          ]
        }
      ]
    },
    {
      "cell_type": "code",
      "source": [
        "model = torch.nn.Sequential(torch.nn.Linear(1, 1))\n",
        "criterion = torch.nn.MSELoss()"
      ],
      "metadata": {
        "id": "e9ifrB_0ic4K"
      },
      "execution_count": 176,
      "outputs": []
    },
    {
      "cell_type": "code",
      "source": [
        "model"
      ],
      "metadata": {
        "colab": {
          "base_uri": "https://localhost:8080/"
        },
        "id": "uRva-yrRoH1z",
        "outputId": "17b113ce-e2ae-4d73-b501-a6427b9d0774"
      },
      "execution_count": 177,
      "outputs": [
        {
          "output_type": "execute_result",
          "data": {
            "text/plain": [
              "Sequential(\n",
              "  (0): Linear(in_features=1, out_features=1, bias=True)\n",
              ")"
            ]
          },
          "metadata": {},
          "execution_count": 177
        }
      ]
    },
    {
      "cell_type": "code",
      "source": [
        "if config[\"training\"][\"optimizer\"] == \"SGD\":\n",
        "    optimizer = optim.SGD(\n",
        "        model.parameters(),\n",
        "        lr=float(config[\"training\"][\"learning_rate\"]),\n",
        "        momentum=0.9,\n",
        "        weight_decay=0.05\n",
        "    )\n",
        "elif config[\"training\"][\"optimizer\"] == \"Adam\":\n",
        "    optimizer = optim.Adam(\n",
        "        model.parameters(),\n",
        "        lr=float(config[\"training\"][\"learning_rate\"]),\n",
        "        eps=float(config[\"adaptive\"][\"epsilon\"]),\n",
        "        weight_decay=0.05\n",
        "    )"
      ],
      "metadata": {
        "id": "MuM9aN-OgPgV"
      },
      "execution_count": 179,
      "outputs": []
    },
    {
      "cell_type": "code",
      "source": [
        "scheduler = torch.optim.lr_scheduler.CyclicLR(\n",
        "    optimizer,\n",
        "    base_lr=0.0001,\n",
        "    max_lr=0.01,\n",
        "    step_size_up=500,\n",
        "    cycle_momentum=False\n",
        ")"
      ],
      "metadata": {
        "id": "wBAyltDGp2bU"
      },
      "execution_count": 180,
      "outputs": []
    },
    {
      "cell_type": "code",
      "source": [
        "print(f\"Learning rate type: {type(config['training']['learning_rate'])}\")\n",
        "print(f\"beta1 type: {type(config['adaptive']['beta1'])}\")"
      ],
      "metadata": {
        "colab": {
          "base_uri": "https://localhost:8080/"
        },
        "id": "vC1UVNpYha0L",
        "outputId": "dfa30610-f4af-45b7-82ce-acf0c1d28918"
      },
      "execution_count": 181,
      "outputs": [
        {
          "output_type": "stream",
          "name": "stdout",
          "text": [
            "Learning rate type: <class 'float'>\n",
            "beta1 type: <class 'float'>\n"
          ]
        }
      ]
    },
    {
      "cell_type": "code",
      "source": [
        "print(\"Config values:\")\n",
        "print(f\"lr: {config['training']['learning_rate']} (type: {type(config['training']['learning_rate'])})\")\n",
        "print(f\"beta1: {config['adaptive']['beta1']} (type: {type(config['adaptive']['beta1'])})\")\n",
        "print(f\"beta2: {config['adaptive']['beta2']} (type: {type(config['adaptive']['beta2'])})\")\n",
        "print(f\"epsilon: {config['adaptive']['epsilon']} (type: {type(config['adaptive']['epsilon'])})\")\n",
        "print(f\"epochs: {config['training']['epochs']} (type: {type(config['training']['epochs'])})\")\n",
        "print(f\"batch_size: {config['training']['batch_size']} (type: {type(config['training']['batch_size'])})\")"
      ],
      "metadata": {
        "colab": {
          "base_uri": "https://localhost:8080/"
        },
        "id": "cFNBNpAIhnn-",
        "outputId": "b0a2102b-9e2c-467a-f454-23af12599cf2"
      },
      "execution_count": 182,
      "outputs": [
        {
          "output_type": "stream",
          "name": "stdout",
          "text": [
            "Config values:\n",
            "lr: 0.01 (type: <class 'float'>)\n",
            "beta1: 0.9 (type: <class 'float'>)\n",
            "beta2: 0.999 (type: <class 'float'>)\n",
            "epsilon: 1e-8 (type: <class 'str'>)\n",
            "epochs: 250 (type: <class 'int'>)\n",
            "batch_size: 32 (type: <class 'int'>)\n"
          ]
        }
      ]
    },
    {
      "cell_type": "code",
      "source": [
        "x = torch.tensor(dataframe[\"x\"].values, dtype=torch.float32).unsqueeze(1)\n",
        "y = torch.tensor(dataframe[\"y\"].values, dtype=torch.float32).unsqueeze(1)"
      ],
      "metadata": {
        "id": "UTIpaIvYh40u"
      },
      "execution_count": 183,
      "outputs": []
    },
    {
      "cell_type": "code",
      "source": [
        "print(x.shape)\n",
        "print(y.shape)"
      ],
      "metadata": {
        "colab": {
          "base_uri": "https://localhost:8080/"
        },
        "id": "z0WMZtmOh9Rb",
        "outputId": "e2f43df6-19ac-40aa-99fc-355459dc479b"
      },
      "execution_count": 184,
      "outputs": [
        {
          "output_type": "stream",
          "name": "stdout",
          "text": [
            "torch.Size([1000, 1])\n",
            "torch.Size([1000, 1])\n"
          ]
        }
      ]
    },
    {
      "cell_type": "code",
      "source": [
        "print(x.dtype)"
      ],
      "metadata": {
        "colab": {
          "base_uri": "https://localhost:8080/"
        },
        "id": "2J9nBlbfiAY2",
        "outputId": "f16af38a-736f-4a00-bf78-efbb5d330016"
      },
      "execution_count": 185,
      "outputs": [
        {
          "output_type": "stream",
          "name": "stdout",
          "text": [
            "torch.float32\n"
          ]
        }
      ]
    },
    {
      "cell_type": "code",
      "source": [
        "epsilon = float(config['adaptive']['epsilon'])\n",
        "print(epsilon)"
      ],
      "metadata": {
        "colab": {
          "base_uri": "https://localhost:8080/"
        },
        "id": "BFkr61RijP_c",
        "outputId": "be7d0be4-853f-41a6-b82b-5f5456ed29f6"
      },
      "execution_count": 186,
      "outputs": [
        {
          "output_type": "stream",
          "name": "stdout",
          "text": [
            "1e-08\n"
          ]
        }
      ]
    },
    {
      "cell_type": "code",
      "source": [
        "output_dir = \"/content/drive/MyDrive/SDGOptimizations\"\n",
        "grad_dir = os.path.join(output_dir, \"gradients\")\n",
        "os.makedirs(grad_dir, exist_ok=True)\n",
        "\n",
        "losses, grads = [], []\n",
        "\n",
        "for epoch in range(config['training']['epochs']):\n",
        "    permutation = torch.randperm(len(x))\n",
        "    x = x[permutation]\n",
        "    y = y[permutation]\n",
        "\n",
        "    for i in range(0, len(x), config['training']['batch_size']):\n",
        "        batch_x = x[i:i+config['training']['batch_size']]\n",
        "        batch_y = y[i:i+config['training']['batch_size']]\n",
        "\n",
        "        optimizer.zero_grad()\n",
        "        outputs = model(batch_x)\n",
        "        loss = criterion(outputs, batch_y)\n",
        "        loss.backward()\n",
        "\n",
        "        grads.append([p.grad.detach().cpu().numpy().copy() for p in model.parameters()])\n",
        "        losses.append(loss.item())\n",
        "        optimizer.step()\n",
        "        scheduler.step()\n",
        "\n",
        "    if epoch % 10 == 0:\n",
        "        with torch.no_grad():\n",
        "            train_loss = criterion(model(x), y)\n",
        "            print(f'Epoch {epoch:3d} | Loss: {train_loss:.4f} | LR: {optimizer.param_groups[0][\"lr\"]:.2e}')\n",
        "\n"
      ],
      "metadata": {
        "colab": {
          "base_uri": "https://localhost:8080/"
        },
        "id": "g5-w_qRMiH11",
        "outputId": "9fd3ca29-17a8-4332-92a0-b7075b816769"
      },
      "execution_count": 187,
      "outputs": [
        {
          "output_type": "stream",
          "name": "stdout",
          "text": [
            "Epoch   0 | Loss: 7.4577 | LR: 7.34e-04\n",
            "Epoch  10 | Loss: 0.5349 | LR: 7.07e-03\n",
            "Epoch  20 | Loss: 0.4783 | LR: 6.59e-03\n",
            "Epoch  30 | Loss: 0.4662 | LR: 2.58e-04\n",
            "Epoch  40 | Loss: 0.4586 | LR: 6.28e-03\n",
            "Epoch  50 | Loss: 0.4517 | LR: 7.39e-03\n",
            "Epoch  60 | Loss: 0.4510 | LR: 1.05e-03\n",
            "Epoch  70 | Loss: 0.4509 | LR: 5.49e-03\n",
            "Epoch  80 | Loss: 0.4507 | LR: 8.18e-03\n",
            "Epoch  90 | Loss: 0.4507 | LR: 1.84e-03\n",
            "Epoch 100 | Loss: 0.4510 | LR: 4.69e-03\n",
            "Epoch 110 | Loss: 0.4509 | LR: 8.97e-03\n",
            "Epoch 120 | Loss: 0.4506 | LR: 2.63e-03\n",
            "Epoch 130 | Loss: 0.4519 | LR: 3.90e-03\n",
            "Epoch 140 | Loss: 0.4508 | LR: 9.76e-03\n",
            "Epoch 150 | Loss: 0.4505 | LR: 3.43e-03\n",
            "Epoch 160 | Loss: 0.4506 | LR: 3.11e-03\n",
            "Epoch 170 | Loss: 0.4523 | LR: 9.45e-03\n",
            "Epoch 180 | Loss: 0.4506 | LR: 4.22e-03\n",
            "Epoch 190 | Loss: 0.4512 | LR: 2.32e-03\n",
            "Epoch 200 | Loss: 0.4567 | LR: 8.65e-03\n",
            "Epoch 210 | Loss: 0.4516 | LR: 5.01e-03\n",
            "Epoch 220 | Loss: 0.4507 | LR: 1.53e-03\n",
            "Epoch 230 | Loss: 0.4593 | LR: 7.86e-03\n",
            "Epoch 240 | Loss: 0.4525 | LR: 5.80e-03\n"
          ]
        }
      ]
    },
    {
      "cell_type": "code",
      "source": [
        "try:\n",
        "    np.save(os.path.join(output_dir, \"losses.npy\"), np.array(losses))\n",
        "    np.save(os.path.join(grad_dir, \"grads.npy\"), np.array(grads, dtype=object))\n",
        "    torch.save(model.state_dict(), os.path.join(output_dir, \"final_model.pkl\"))\n",
        "    print(f\"Results successfully saved to {output_dir}\")\n",
        "except Exception as e:\n",
        "    print(f\"Error saving results: {str(e)}\")"
      ],
      "metadata": {
        "colab": {
          "base_uri": "https://localhost:8080/"
        },
        "id": "sKiQwMmLkEKZ",
        "outputId": "16fe583f-d92d-4929-a638-85129106dbfc"
      },
      "execution_count": 188,
      "outputs": [
        {
          "output_type": "stream",
          "name": "stdout",
          "text": [
            "Results successfully saved to /content/drive/MyDrive/SDGOptimizations\n"
          ]
        }
      ]
    },
    {
      "cell_type": "code",
      "source": [
        "import matplotlib.pyplot as plt\n",
        "losses = np.load(\"/content/drive/MyDrive/SDGOptimizations/losses.npy\")\n",
        "plt.plot(losses)\n",
        "plt.title(\"Training Loss Curve\")\n",
        "plt.xlabel(\"Iterations\")\n",
        "plt.ylabel(\"Loss\")\n",
        "plt.savefig(f\"{output_dir}/loss_curve.png\")"
      ],
      "metadata": {
        "colab": {
          "base_uri": "https://localhost:8080/",
          "height": 472
        },
        "id": "9oA1sRKLktCQ",
        "outputId": "296d36aa-c96c-4907-da23-fcf3c5518e3a"
      },
      "execution_count": 189,
      "outputs": [
        {
          "output_type": "display_data",
          "data": {
            "text/plain": [
              "<Figure size 640x480 with 1 Axes>"
            ],
            "image/png": "[encoded data removed]"
          },
          "metadata": {}
        }
      ]
    }
  ]
}